{
 "cells": [
  {
   "cell_type": "code",
   "execution_count": 1,
   "metadata": {
    "ExecuteTime": {
     "end_time": "2020-12-17T17:05:35.215201Z",
     "start_time": "2020-12-17T17:05:34.867867Z"
    }
   },
   "outputs": [],
   "source": [
    "import pandas as pd\n",
    "pd.options.display.max_rows = 500"
   ]
  },
  {
   "cell_type": "markdown",
   "metadata": {},
   "source": [
    "## Orders"
   ]
  },
  {
   "cell_type": "code",
   "execution_count": 2,
   "metadata": {
    "ExecuteTime": {
     "end_time": "2020-12-17T17:05:36.795051Z",
     "start_time": "2020-12-17T17:05:36.717257Z"
    }
   },
   "outputs": [
    {
     "data": {
      "text/html": [
       "<div>\n",
       "<style scoped>\n",
       "    .dataframe tbody tr th:only-of-type {\n",
       "        vertical-align: middle;\n",
       "    }\n",
       "\n",
       "    .dataframe tbody tr th {\n",
       "        vertical-align: top;\n",
       "    }\n",
       "\n",
       "    .dataframe thead th {\n",
       "        text-align: right;\n",
       "    }\n",
       "</style>\n",
       "<table border=\"1\" class=\"dataframe\">\n",
       "  <thead>\n",
       "    <tr style=\"text-align: right;\">\n",
       "      <th></th>\n",
       "      <th>order_source_id</th>\n",
       "      <th>order_created_datetime</th>\n",
       "      <th>customer_id</th>\n",
       "      <th>status</th>\n",
       "      <th>sum</th>\n",
       "      <th>quantity</th>\n",
       "      <th>name</th>\n",
       "      <th>surname</th>\n",
       "      <th>patronymic</th>\n",
       "      <th>product_id</th>\n",
       "    </tr>\n",
       "  </thead>\n",
       "  <tbody>\n",
       "    <tr>\n",
       "      <th>2057</th>\n",
       "      <td>352799</td>\n",
       "      <td>2019-04-28T18:20:05</td>\n",
       "      <td>53288</td>\n",
       "      <td>Paid</td>\n",
       "      <td>1639.75</td>\n",
       "      <td>2</td>\n",
       "      <td>ольга</td>\n",
       "      <td>костецька</td>\n",
       "      <td>василівна</td>\n",
       "      <td>411552</td>\n",
       "    </tr>\n",
       "    <tr>\n",
       "      <th>281</th>\n",
       "      <td>348368</td>\n",
       "      <td>2019-04-20T16:04:04</td>\n",
       "      <td>38764</td>\n",
       "      <td>Failed</td>\n",
       "      <td>569.0</td>\n",
       "      <td>1</td>\n",
       "      <td>людмила</td>\n",
       "      <td>романькова</td>\n",
       "      <td>васильевна</td>\n",
       "      <td>481600</td>\n",
       "    </tr>\n",
       "    <tr>\n",
       "      <th>840</th>\n",
       "      <td>350160</td>\n",
       "      <td>2019-04-23T17:26:06</td>\n",
       "      <td>103614</td>\n",
       "      <td>Paid</td>\n",
       "      <td>781.0</td>\n",
       "      <td>2</td>\n",
       "      <td>ксения</td>\n",
       "      <td>войтович</td>\n",
       "      <td>викторовна</td>\n",
       "      <td>490460</td>\n",
       "    </tr>\n",
       "    <tr>\n",
       "      <th>2482</th>\n",
       "      <td>345744</td>\n",
       "      <td>2019-04-16T13:34:22</td>\n",
       "      <td>31186</td>\n",
       "      <td>Failed</td>\n",
       "      <td>56.1</td>\n",
       "      <td>1</td>\n",
       "      <td>анна</td>\n",
       "      <td>саловська</td>\n",
       "      <td>олександрівна</td>\n",
       "      <td>529629c</td>\n",
       "    </tr>\n",
       "    <tr>\n",
       "      <th>1535</th>\n",
       "      <td>352736</td>\n",
       "      <td>2019-04-28T15:40:29</td>\n",
       "      <td>105472</td>\n",
       "      <td>Failed</td>\n",
       "      <td>48,0</td>\n",
       "      <td>1</td>\n",
       "      <td>катя</td>\n",
       "      <td>алдохина</td>\n",
       "      <td>алдонина</td>\n",
       "      <td>460488</td>\n",
       "    </tr>\n",
       "    <tr>\n",
       "      <th>...</th>\n",
       "      <td>...</td>\n",
       "      <td>...</td>\n",
       "      <td>...</td>\n",
       "      <td>...</td>\n",
       "      <td>...</td>\n",
       "      <td>...</td>\n",
       "      <td>...</td>\n",
       "      <td>...</td>\n",
       "      <td>...</td>\n",
       "      <td>...</td>\n",
       "    </tr>\n",
       "    <tr>\n",
       "      <th>2034</th>\n",
       "      <td>346933</td>\n",
       "      <td>2019-04-18T11:58:03</td>\n",
       "      <td>45660</td>\n",
       "      <td>Paid</td>\n",
       "      <td>230.4</td>\n",
       "      <td>1</td>\n",
       "      <td>андрей</td>\n",
       "      <td>кожин</td>\n",
       "      <td>юрьевич</td>\n",
       "      <td>273025</td>\n",
       "    </tr>\n",
       "    <tr>\n",
       "      <th>2495</th>\n",
       "      <td>347759</td>\n",
       "      <td>2019-04-19T15:30:36</td>\n",
       "      <td>31669</td>\n",
       "      <td>Paid</td>\n",
       "      <td>1130.1</td>\n",
       "      <td>3</td>\n",
       "      <td>наталья</td>\n",
       "      <td>скорик</td>\n",
       "      <td>миколаївна</td>\n",
       "      <td>505977</td>\n",
       "    </tr>\n",
       "    <tr>\n",
       "      <th>427</th>\n",
       "      <td>351824</td>\n",
       "      <td>2019-04-26T14:46:06</td>\n",
       "      <td>103780</td>\n",
       "      <td>Paid</td>\n",
       "      <td>243.0</td>\n",
       "      <td>1</td>\n",
       "      <td>ірина</td>\n",
       "      <td>швець</td>\n",
       "      <td>валеріївна</td>\n",
       "      <td>24463</td>\n",
       "    </tr>\n",
       "    <tr>\n",
       "      <th>828</th>\n",
       "      <td>351519</td>\n",
       "      <td>2019-04-25T23:20:03</td>\n",
       "      <td>39095</td>\n",
       "      <td>Paid</td>\n",
       "      <td>798.0</td>\n",
       "      <td>2</td>\n",
       "      <td>елена</td>\n",
       "      <td>koliadenko</td>\n",
       "      <td>александровна</td>\n",
       "      <td>481602</td>\n",
       "    </tr>\n",
       "    <tr>\n",
       "      <th>35</th>\n",
       "      <td>346801</td>\n",
       "      <td>2019-04-18T01:32:02</td>\n",
       "      <td>40981</td>\n",
       "      <td>Failed</td>\n",
       "      <td>564.0</td>\n",
       "      <td>3</td>\n",
       "      <td>наталья</td>\n",
       "      <td>собко</td>\n",
       "      <td>владимировна</td>\n",
       "      <td>482005</td>\n",
       "    </tr>\n",
       "  </tbody>\n",
       "</table>\n",
       "<p>2502 rows × 10 columns</p>\n",
       "</div>"
      ],
      "text/plain": [
       "      order_source_id order_created_datetime  customer_id  status      sum  \\\n",
       "2057           352799    2019-04-28T18:20:05        53288    Paid  1639.75   \n",
       "281            348368    2019-04-20T16:04:04        38764  Failed    569.0   \n",
       "840            350160    2019-04-23T17:26:06       103614    Paid    781.0   \n",
       "2482           345744    2019-04-16T13:34:22        31186  Failed     56.1   \n",
       "1535           352736    2019-04-28T15:40:29       105472  Failed     48,0   \n",
       "...               ...                    ...          ...     ...      ...   \n",
       "2034           346933    2019-04-18T11:58:03        45660    Paid    230.4   \n",
       "2495           347759    2019-04-19T15:30:36        31669    Paid   1130.1   \n",
       "427            351824    2019-04-26T14:46:06       103780    Paid    243.0   \n",
       "828            351519    2019-04-25T23:20:03        39095    Paid    798.0   \n",
       "35             346801    2019-04-18T01:32:02        40981  Failed    564.0   \n",
       "\n",
       "      quantity     name     surname     patronymic product_id  \n",
       "2057         2    ольга   костецька      василівна     411552  \n",
       "281          1  людмила  романькова     васильевна     481600  \n",
       "840          2   ксения    войтович     викторовна     490460  \n",
       "2482         1     анна   саловська  олександрівна    529629c  \n",
       "1535         1     катя    алдохина       алдонина     460488  \n",
       "...        ...      ...         ...            ...        ...  \n",
       "2034         1   андрей       кожин        юрьевич     273025  \n",
       "2495         3  наталья      скорик     миколаївна     505977  \n",
       "427          1    ірина       швець     валеріївна      24463  \n",
       "828          2    елена  koliadenko  александровна     481602  \n",
       "35           3  наталья       собко   владимировна     482005  \n",
       "\n",
       "[2502 rows x 10 columns]"
      ]
     },
     "execution_count": 2,
     "metadata": {},
     "output_type": "execute_result"
    }
   ],
   "source": [
    "orders = pd.read_csv('data/orders_s-1.csv', index_col = 0)\n",
    "orders"
   ]
  },
  {
   "cell_type": "code",
   "execution_count": 3,
   "metadata": {
    "ExecuteTime": {
     "end_time": "2020-12-17T17:05:38.294169Z",
     "start_time": "2020-12-17T17:05:38.254309Z"
    }
   },
   "outputs": [
    {
     "name": "stdout",
     "output_type": "stream",
     "text": [
      "<class 'pandas.core.frame.DataFrame'>\n",
      "Int64Index: 2502 entries, 2057 to 35\n",
      "Data columns (total 10 columns):\n",
      " #   Column                  Non-Null Count  Dtype \n",
      "---  ------                  --------------  ----- \n",
      " 0   order_source_id         2502 non-null   int64 \n",
      " 1   order_created_datetime  2502 non-null   object\n",
      " 2   customer_id             2502 non-null   int64 \n",
      " 3   status                  2502 non-null   object\n",
      " 4   sum                     2502 non-null   object\n",
      " 5   quantity                2502 non-null   int64 \n",
      " 6   name                    2502 non-null   object\n",
      " 7   surname                 2502 non-null   object\n",
      " 8   patronymic              2502 non-null   object\n",
      " 9   product_id              2502 non-null   object\n",
      "dtypes: int64(3), object(7)\n",
      "memory usage: 215.0+ KB\n"
     ]
    }
   ],
   "source": [
    "orders.info()"
   ]
  },
  {
   "cell_type": "code",
   "execution_count": 4,
   "metadata": {
    "ExecuteTime": {
     "end_time": "2020-12-17T17:05:41.200487Z",
     "start_time": "2020-12-17T17:05:41.146631Z"
    }
   },
   "outputs": [],
   "source": [
    "from transliterate import translit, get_available_language_codes\n",
    "import re"
   ]
  },
  {
   "cell_type": "code",
   "execution_count": 5,
   "metadata": {
    "ExecuteTime": {
     "end_time": "2020-12-17T17:05:43.641103Z",
     "start_time": "2020-12-17T17:05:43.052240Z"
    }
   },
   "outputs": [
    {
     "name": "stdout",
     "output_type": "stream",
     "text": [
      "<class 'pandas.core.frame.DataFrame'>\n",
      "Int64Index: 2502 entries, 2057 to 35\n",
      "Data columns (total 10 columns):\n",
      " #   Column                  Non-Null Count  Dtype         \n",
      "---  ------                  --------------  -----         \n",
      " 0   order_source_id         2502 non-null   int64         \n",
      " 1   order_created_datetime  2502 non-null   datetime64[ns]\n",
      " 2   customer_id             2502 non-null   int64         \n",
      " 3   status                  2502 non-null   object        \n",
      " 4   sum                     2502 non-null   float64       \n",
      " 5   quantity                2502 non-null   int64         \n",
      " 6   name                    2502 non-null   object        \n",
      " 7   surname                 2502 non-null   object        \n",
      " 8   patronymic              2502 non-null   object        \n",
      " 9   product_id              2502 non-null   int32         \n",
      "dtypes: datetime64[ns](1), float64(1), int32(1), int64(3), object(4)\n",
      "memory usage: 205.2+ KB\n"
     ]
    }
   ],
   "source": [
    "### Transliterate names\n",
    "\n",
    "def get_translit(string):\n",
    "    transliterated = translit(string, 'ru', reversed = True).replace(\"'\", \"\")\n",
    "    return re.sub(r'&.+;', '', transliterated)\n",
    "\n",
    "cols = ['name', 'surname', 'patronymic']\n",
    "for col in cols:\n",
    "    orders[col] = [get_translit(text) for text in orders[col]]\n",
    "    \n",
    "### Filter product_id\n",
    "orders['product_id'] = orders['product_id'].replace(r'[A-z]+', '', regex = True).astype(int)\n",
    "\n",
    "### Convert timestamps\n",
    "orders['order_created_datetime'] = pd.to_datetime(orders['order_created_datetime'])\n",
    "\n",
    "### Convert sums\n",
    "orders['sum'] = orders['sum'].replace(',', '.', regex = True).astype(float)\n",
    "orders.info()"
   ]
  },
  {
   "cell_type": "code",
   "execution_count": 6,
   "metadata": {
    "ExecuteTime": {
     "end_time": "2020-12-17T17:06:22.783337Z",
     "start_time": "2020-12-17T17:06:22.716587Z"
    }
   },
   "outputs": [
    {
     "data": {
      "text/html": [
       "<div>\n",
       "<style scoped>\n",
       "    .dataframe tbody tr th:only-of-type {\n",
       "        vertical-align: middle;\n",
       "    }\n",
       "\n",
       "    .dataframe tbody tr th {\n",
       "        vertical-align: top;\n",
       "    }\n",
       "\n",
       "    .dataframe thead th {\n",
       "        text-align: right;\n",
       "    }\n",
       "</style>\n",
       "<table border=\"1\" class=\"dataframe\">\n",
       "  <thead>\n",
       "    <tr style=\"text-align: right;\">\n",
       "      <th></th>\n",
       "      <th>order_source_id</th>\n",
       "      <th>order_created_datetime</th>\n",
       "      <th>customer_id</th>\n",
       "      <th>status</th>\n",
       "      <th>sum</th>\n",
       "      <th>quantity</th>\n",
       "      <th>name</th>\n",
       "      <th>surname</th>\n",
       "      <th>patronymic</th>\n",
       "      <th>product_id</th>\n",
       "    </tr>\n",
       "  </thead>\n",
       "  <tbody>\n",
       "    <tr>\n",
       "      <th>2057</th>\n",
       "      <td>352799</td>\n",
       "      <td>2019-04-28 18:20:05</td>\n",
       "      <td>53288</td>\n",
       "      <td>Paid</td>\n",
       "      <td>1639.75</td>\n",
       "      <td>2</td>\n",
       "      <td>olga</td>\n",
       "      <td>kostetska</td>\n",
       "      <td>vasilіvna</td>\n",
       "      <td>411552</td>\n",
       "    </tr>\n",
       "    <tr>\n",
       "      <th>281</th>\n",
       "      <td>348368</td>\n",
       "      <td>2019-04-20 16:04:04</td>\n",
       "      <td>38764</td>\n",
       "      <td>Failed</td>\n",
       "      <td>569.00</td>\n",
       "      <td>1</td>\n",
       "      <td>ljudmila</td>\n",
       "      <td>romankova</td>\n",
       "      <td>vasilevna</td>\n",
       "      <td>481600</td>\n",
       "    </tr>\n",
       "    <tr>\n",
       "      <th>840</th>\n",
       "      <td>350160</td>\n",
       "      <td>2019-04-23 17:26:06</td>\n",
       "      <td>103614</td>\n",
       "      <td>Paid</td>\n",
       "      <td>781.00</td>\n",
       "      <td>2</td>\n",
       "      <td>ksenija</td>\n",
       "      <td>vojtovich</td>\n",
       "      <td>viktorovna</td>\n",
       "      <td>490460</td>\n",
       "    </tr>\n",
       "    <tr>\n",
       "      <th>2482</th>\n",
       "      <td>345744</td>\n",
       "      <td>2019-04-16 13:34:22</td>\n",
       "      <td>31186</td>\n",
       "      <td>Failed</td>\n",
       "      <td>56.10</td>\n",
       "      <td>1</td>\n",
       "      <td>anna</td>\n",
       "      <td>salovska</td>\n",
       "      <td>oleksandrіvna</td>\n",
       "      <td>529629</td>\n",
       "    </tr>\n",
       "    <tr>\n",
       "      <th>1535</th>\n",
       "      <td>352736</td>\n",
       "      <td>2019-04-28 15:40:29</td>\n",
       "      <td>105472</td>\n",
       "      <td>Failed</td>\n",
       "      <td>48.00</td>\n",
       "      <td>1</td>\n",
       "      <td>katja</td>\n",
       "      <td>aldohina</td>\n",
       "      <td>aldonina</td>\n",
       "      <td>460488</td>\n",
       "    </tr>\n",
       "    <tr>\n",
       "      <th>...</th>\n",
       "      <td>...</td>\n",
       "      <td>...</td>\n",
       "      <td>...</td>\n",
       "      <td>...</td>\n",
       "      <td>...</td>\n",
       "      <td>...</td>\n",
       "      <td>...</td>\n",
       "      <td>...</td>\n",
       "      <td>...</td>\n",
       "      <td>...</td>\n",
       "    </tr>\n",
       "    <tr>\n",
       "      <th>58</th>\n",
       "      <td>349338</td>\n",
       "      <td>2019-04-22 13:16:04</td>\n",
       "      <td>103210</td>\n",
       "      <td>Paid</td>\n",
       "      <td>2239.00</td>\n",
       "      <td>1</td>\n",
       "      <td>elena</td>\n",
       "      <td>strelets</td>\n",
       "      <td>aleksandrovna</td>\n",
       "      <td>528180</td>\n",
       "    </tr>\n",
       "    <tr>\n",
       "      <th>842</th>\n",
       "      <td>351099</td>\n",
       "      <td>2019-04-25 12:02:06</td>\n",
       "      <td>31712</td>\n",
       "      <td>Paid</td>\n",
       "      <td>783.00</td>\n",
       "      <td>3</td>\n",
       "      <td>lilija</td>\n",
       "      <td>lazko</td>\n",
       "      <td>georgievna</td>\n",
       "      <td>541661</td>\n",
       "    </tr>\n",
       "    <tr>\n",
       "      <th>2034</th>\n",
       "      <td>346933</td>\n",
       "      <td>2019-04-18 11:58:03</td>\n",
       "      <td>45660</td>\n",
       "      <td>Paid</td>\n",
       "      <td>230.40</td>\n",
       "      <td>1</td>\n",
       "      <td>andrej</td>\n",
       "      <td>kozhin</td>\n",
       "      <td>jurevich</td>\n",
       "      <td>273025</td>\n",
       "    </tr>\n",
       "    <tr>\n",
       "      <th>2495</th>\n",
       "      <td>347759</td>\n",
       "      <td>2019-04-19 15:30:36</td>\n",
       "      <td>31669</td>\n",
       "      <td>Paid</td>\n",
       "      <td>1130.10</td>\n",
       "      <td>3</td>\n",
       "      <td>natalja</td>\n",
       "      <td>skorik</td>\n",
       "      <td>mikolaїvna</td>\n",
       "      <td>505977</td>\n",
       "    </tr>\n",
       "    <tr>\n",
       "      <th>35</th>\n",
       "      <td>346801</td>\n",
       "      <td>2019-04-18 01:32:02</td>\n",
       "      <td>40981</td>\n",
       "      <td>Failed</td>\n",
       "      <td>564.00</td>\n",
       "      <td>3</td>\n",
       "      <td>natalja</td>\n",
       "      <td>sobko</td>\n",
       "      <td>vladimirovna</td>\n",
       "      <td>482005</td>\n",
       "    </tr>\n",
       "  </tbody>\n",
       "</table>\n",
       "<p>1499 rows × 10 columns</p>\n",
       "</div>"
      ],
      "text/plain": [
       "      order_source_id order_created_datetime  customer_id  status      sum  \\\n",
       "2057           352799    2019-04-28 18:20:05        53288    Paid  1639.75   \n",
       "281            348368    2019-04-20 16:04:04        38764  Failed   569.00   \n",
       "840            350160    2019-04-23 17:26:06       103614    Paid   781.00   \n",
       "2482           345744    2019-04-16 13:34:22        31186  Failed    56.10   \n",
       "1535           352736    2019-04-28 15:40:29       105472  Failed    48.00   \n",
       "...               ...                    ...          ...     ...      ...   \n",
       "58             349338    2019-04-22 13:16:04       103210    Paid  2239.00   \n",
       "842            351099    2019-04-25 12:02:06        31712    Paid   783.00   \n",
       "2034           346933    2019-04-18 11:58:03        45660    Paid   230.40   \n",
       "2495           347759    2019-04-19 15:30:36        31669    Paid  1130.10   \n",
       "35             346801    2019-04-18 01:32:02        40981  Failed   564.00   \n",
       "\n",
       "      quantity      name    surname     patronymic  product_id  \n",
       "2057         2      olga  kostetska      vasilіvna      411552  \n",
       "281          1  ljudmila  romankova      vasilevna      481600  \n",
       "840          2   ksenija  vojtovich     viktorovna      490460  \n",
       "2482         1      anna   salovska  oleksandrіvna      529629  \n",
       "1535         1     katja   aldohina       aldonina      460488  \n",
       "...        ...       ...        ...            ...         ...  \n",
       "58           1     elena   strelets  aleksandrovna      528180  \n",
       "842          3    lilija      lazko     georgievna      541661  \n",
       "2034         1    andrej     kozhin       jurevich      273025  \n",
       "2495         3   natalja     skorik     mikolaїvna      505977  \n",
       "35           3   natalja      sobko   vladimirovna      482005  \n",
       "\n",
       "[1499 rows x 10 columns]"
      ]
     },
     "execution_count": 6,
     "metadata": {},
     "output_type": "execute_result"
    }
   ],
   "source": [
    "### Drop duplicates\n",
    "orders.drop_duplicates(inplace = True)\n",
    "orders"
   ]
  },
  {
   "cell_type": "code",
   "execution_count": 28,
   "metadata": {
    "ExecuteTime": {
     "end_time": "2020-12-13T15:21:48.104132Z",
     "start_time": "2020-12-13T15:21:48.054263Z"
    }
   },
   "outputs": [
    {
     "data": {
      "text/html": [
       "<div>\n",
       "<style scoped>\n",
       "    .dataframe tbody tr th:only-of-type {\n",
       "        vertical-align: middle;\n",
       "    }\n",
       "\n",
       "    .dataframe tbody tr th {\n",
       "        vertical-align: top;\n",
       "    }\n",
       "\n",
       "    .dataframe thead th {\n",
       "        text-align: right;\n",
       "    }\n",
       "</style>\n",
       "<table border=\"1\" class=\"dataframe\">\n",
       "  <thead>\n",
       "    <tr style=\"text-align: right;\">\n",
       "      <th></th>\n",
       "      <th>order_source_id</th>\n",
       "      <th>order_created_datetime</th>\n",
       "      <th>customer_id</th>\n",
       "      <th>status</th>\n",
       "      <th>sum</th>\n",
       "      <th>quantity</th>\n",
       "      <th>name</th>\n",
       "      <th>surname</th>\n",
       "      <th>patronymic</th>\n",
       "      <th>product_id</th>\n",
       "    </tr>\n",
       "  </thead>\n",
       "  <tbody>\n",
       "    <tr>\n",
       "      <th>2057</th>\n",
       "      <td>352799</td>\n",
       "      <td>2019-04-28 18:20:05</td>\n",
       "      <td>53288</td>\n",
       "      <td>Paid</td>\n",
       "      <td>1639.75</td>\n",
       "      <td>2</td>\n",
       "      <td>olga</td>\n",
       "      <td>kostetska</td>\n",
       "      <td>vasilіvna</td>\n",
       "      <td>411552</td>\n",
       "    </tr>\n",
       "    <tr>\n",
       "      <th>281</th>\n",
       "      <td>348368</td>\n",
       "      <td>2019-04-20 16:04:04</td>\n",
       "      <td>38764</td>\n",
       "      <td>Failed</td>\n",
       "      <td>569.00</td>\n",
       "      <td>1</td>\n",
       "      <td>ljudmila</td>\n",
       "      <td>romankova</td>\n",
       "      <td>vasilevna</td>\n",
       "      <td>481600</td>\n",
       "    </tr>\n",
       "    <tr>\n",
       "      <th>840</th>\n",
       "      <td>350160</td>\n",
       "      <td>2019-04-23 17:26:06</td>\n",
       "      <td>103614</td>\n",
       "      <td>Paid</td>\n",
       "      <td>781.00</td>\n",
       "      <td>2</td>\n",
       "      <td>ksenija</td>\n",
       "      <td>vojtovich</td>\n",
       "      <td>viktorovna</td>\n",
       "      <td>490460</td>\n",
       "    </tr>\n",
       "    <tr>\n",
       "      <th>2482</th>\n",
       "      <td>345744</td>\n",
       "      <td>2019-04-16 13:34:22</td>\n",
       "      <td>31186</td>\n",
       "      <td>Failed</td>\n",
       "      <td>56.10</td>\n",
       "      <td>1</td>\n",
       "      <td>anna</td>\n",
       "      <td>salovska</td>\n",
       "      <td>oleksandrіvna</td>\n",
       "      <td>529629</td>\n",
       "    </tr>\n",
       "    <tr>\n",
       "      <th>1535</th>\n",
       "      <td>352736</td>\n",
       "      <td>2019-04-28 15:40:29</td>\n",
       "      <td>105472</td>\n",
       "      <td>Failed</td>\n",
       "      <td>48.00</td>\n",
       "      <td>1</td>\n",
       "      <td>katja</td>\n",
       "      <td>aldohina</td>\n",
       "      <td>aldonina</td>\n",
       "      <td>460488</td>\n",
       "    </tr>\n",
       "    <tr>\n",
       "      <th>...</th>\n",
       "      <td>...</td>\n",
       "      <td>...</td>\n",
       "      <td>...</td>\n",
       "      <td>...</td>\n",
       "      <td>...</td>\n",
       "      <td>...</td>\n",
       "      <td>...</td>\n",
       "      <td>...</td>\n",
       "      <td>...</td>\n",
       "      <td>...</td>\n",
       "    </tr>\n",
       "    <tr>\n",
       "      <th>58</th>\n",
       "      <td>349338</td>\n",
       "      <td>2019-04-22 13:16:04</td>\n",
       "      <td>103210</td>\n",
       "      <td>Paid</td>\n",
       "      <td>2239.00</td>\n",
       "      <td>1</td>\n",
       "      <td>elena</td>\n",
       "      <td>strelets</td>\n",
       "      <td>aleksandrovna</td>\n",
       "      <td>528180</td>\n",
       "    </tr>\n",
       "    <tr>\n",
       "      <th>842</th>\n",
       "      <td>351099</td>\n",
       "      <td>2019-04-25 12:02:06</td>\n",
       "      <td>31712</td>\n",
       "      <td>Paid</td>\n",
       "      <td>783.00</td>\n",
       "      <td>3</td>\n",
       "      <td>lilija</td>\n",
       "      <td>lazko</td>\n",
       "      <td>georgievna</td>\n",
       "      <td>541661</td>\n",
       "    </tr>\n",
       "    <tr>\n",
       "      <th>2034</th>\n",
       "      <td>346933</td>\n",
       "      <td>2019-04-18 11:58:03</td>\n",
       "      <td>45660</td>\n",
       "      <td>Paid</td>\n",
       "      <td>230.40</td>\n",
       "      <td>1</td>\n",
       "      <td>andrej</td>\n",
       "      <td>kozhin</td>\n",
       "      <td>jurevich</td>\n",
       "      <td>273025</td>\n",
       "    </tr>\n",
       "    <tr>\n",
       "      <th>2495</th>\n",
       "      <td>347759</td>\n",
       "      <td>2019-04-19 15:30:36</td>\n",
       "      <td>31669</td>\n",
       "      <td>Paid</td>\n",
       "      <td>1130.10</td>\n",
       "      <td>3</td>\n",
       "      <td>natalja</td>\n",
       "      <td>skorik</td>\n",
       "      <td>mikolaїvna</td>\n",
       "      <td>505977</td>\n",
       "    </tr>\n",
       "    <tr>\n",
       "      <th>35</th>\n",
       "      <td>346801</td>\n",
       "      <td>2019-04-18 01:32:02</td>\n",
       "      <td>40981</td>\n",
       "      <td>Failed</td>\n",
       "      <td>564.00</td>\n",
       "      <td>3</td>\n",
       "      <td>natalja</td>\n",
       "      <td>sobko</td>\n",
       "      <td>vladimirovna</td>\n",
       "      <td>482005</td>\n",
       "    </tr>\n",
       "  </tbody>\n",
       "</table>\n",
       "<p>1499 rows × 10 columns</p>\n",
       "</div>"
      ],
      "text/plain": [
       "      order_source_id order_created_datetime  customer_id  status      sum  \\\n",
       "2057           352799    2019-04-28 18:20:05        53288    Paid  1639.75   \n",
       "281            348368    2019-04-20 16:04:04        38764  Failed   569.00   \n",
       "840            350160    2019-04-23 17:26:06       103614    Paid   781.00   \n",
       "2482           345744    2019-04-16 13:34:22        31186  Failed    56.10   \n",
       "1535           352736    2019-04-28 15:40:29       105472  Failed    48.00   \n",
       "...               ...                    ...          ...     ...      ...   \n",
       "58             349338    2019-04-22 13:16:04       103210    Paid  2239.00   \n",
       "842            351099    2019-04-25 12:02:06        31712    Paid   783.00   \n",
       "2034           346933    2019-04-18 11:58:03        45660    Paid   230.40   \n",
       "2495           347759    2019-04-19 15:30:36        31669    Paid  1130.10   \n",
       "35             346801    2019-04-18 01:32:02        40981  Failed   564.00   \n",
       "\n",
       "      quantity      name    surname     patronymic  product_id  \n",
       "2057         2      olga  kostetska      vasilіvna      411552  \n",
       "281          1  ljudmila  romankova      vasilevna      481600  \n",
       "840          2   ksenija  vojtovich     viktorovna      490460  \n",
       "2482         1      anna   salovska  oleksandrіvna      529629  \n",
       "1535         1     katja   aldohina       aldonina      460488  \n",
       "...        ...       ...        ...            ...         ...  \n",
       "58           1     elena   strelets  aleksandrovna      528180  \n",
       "842          3    lilija      lazko     georgievna      541661  \n",
       "2034         1    andrej     kozhin       jurevich      273025  \n",
       "2495         3   natalja     skorik     mikolaїvna      505977  \n",
       "35           3   natalja      sobko   vladimirovna      482005  \n",
       "\n",
       "[1499 rows x 10 columns]"
      ]
     },
     "execution_count": 28,
     "metadata": {},
     "output_type": "execute_result"
    }
   ],
   "source": []
  },
  {
   "cell_type": "markdown",
   "metadata": {},
   "source": [
    "## Uplodaing cleansed data"
   ]
  },
  {
   "cell_type": "code",
   "execution_count": 30,
   "metadata": {
    "ExecuteTime": {
     "end_time": "2020-12-13T15:22:07.484864Z",
     "start_time": "2020-12-13T15:22:05.455229Z"
    }
   },
   "outputs": [],
   "source": [
    "from google.cloud import bigquery\n",
    "import os"
   ]
  },
  {
   "cell_type": "code",
   "execution_count": 31,
   "metadata": {
    "ExecuteTime": {
     "end_time": "2020-12-13T15:22:08.903257Z",
     "start_time": "2020-12-13T15:22:08.899229Z"
    }
   },
   "outputs": [],
   "source": [
    "path = r\"F:\\Dropbox\\03_Data SCIENCE\\00_projects\\NEW_CURRENT\\My Project-adce710257e8.json\"\n",
    "os.environ[\"GOOGLE_APPLICATION_CREDENTIALS\"] = path"
   ]
  },
  {
   "cell_type": "code",
   "execution_count": 32,
   "metadata": {
    "ExecuteTime": {
     "end_time": "2020-12-13T15:22:09.787374Z",
     "start_time": "2020-12-13T15:22:09.760446Z"
    }
   },
   "outputs": [],
   "source": [
    "client = bigquery.Client()"
   ]
  },
  {
   "cell_type": "markdown",
   "metadata": {},
   "source": [
    "### Create dataset"
   ]
  },
  {
   "cell_type": "code",
   "execution_count": 35,
   "metadata": {
    "ExecuteTime": {
     "end_time": "2020-12-13T15:23:08.566534Z",
     "start_time": "2020-12-13T15:23:08.551582Z"
    }
   },
   "outputs": [],
   "source": [
    "dataset_id = 'client_data'\n",
    "project_id = client.project"
   ]
  },
  {
   "cell_type": "code",
   "execution_count": null,
   "metadata": {
    "ExecuteTime": {
     "end_time": "2020-12-13T11:57:40.844847Z",
     "start_time": "2020-12-13T11:57:40.085899Z"
    }
   },
   "outputs": [],
   "source": [
    "dataset_ref = bigquery.DatasetReference.from_string(dataset_id, default_project=project_id)\n",
    "dataset = bigquery.Dataset(dataset_ref)\n",
    "dataset = client.create_dataset(dataset, timeout=30)\n",
    "print(f\"Created dataset {project_id}.{dataset.dataset_id}\")"
   ]
  },
  {
   "cell_type": "markdown",
   "metadata": {},
   "source": [
    "### Create table"
   ]
  },
  {
   "cell_type": "code",
   "execution_count": 36,
   "metadata": {
    "ExecuteTime": {
     "end_time": "2020-12-13T15:23:19.548727Z",
     "start_time": "2020-12-13T15:23:19.536720Z"
    }
   },
   "outputs": [
    {
     "data": {
      "text/plain": [
       "'thinking-seer-298510.client_data.orders'"
      ]
     },
     "execution_count": 36,
     "metadata": {},
     "output_type": "execute_result"
    }
   ],
   "source": [
    "table_name = 'orders'\n",
    "table_id = '.'.join([project_id, dataset_id, table_name])\n",
    "table_id"
   ]
  },
  {
   "cell_type": "code",
   "execution_count": null,
   "metadata": {
    "ExecuteTime": {
     "end_time": "2020-12-13T14:59:08.281345Z",
     "start_time": "2020-12-13T14:59:07.463093Z"
    }
   },
   "outputs": [],
   "source": [
    "table = bigquery.Table(table_id)\n",
    "table = client.create_table(table)"
   ]
  },
  {
   "cell_type": "markdown",
   "metadata": {},
   "source": [
    "### upload dataframe to table"
   ]
  },
  {
   "cell_type": "code",
   "execution_count": 33,
   "metadata": {
    "ExecuteTime": {
     "end_time": "2020-12-13T15:22:19.782145Z",
     "start_time": "2020-12-13T15:22:19.770136Z"
    }
   },
   "outputs": [],
   "source": [
    "string_cols = ('status', 'name', 'surname', 'patronymic')\n",
    "schema = [bigquery.SchemaField(s, bigquery.enums.SqlTypeNames.STRING) for s in string_cols]"
   ]
  },
  {
   "cell_type": "code",
   "execution_count": 37,
   "metadata": {
    "ExecuteTime": {
     "end_time": "2020-12-13T15:23:40.335709Z",
     "start_time": "2020-12-13T15:23:29.655211Z"
    }
   },
   "outputs": [
    {
     "name": "stdout",
     "output_type": "stream",
     "text": [
      "Loaded 1499 rows and 10 columns to thinking-seer-298510.client_data.orders\n"
     ]
    }
   ],
   "source": [
    "job_config = bigquery.LoadJobConfig(\n",
    "    schema=schema,\n",
    "    write_disposition=\"WRITE_TRUNCATE\"\n",
    ")\n",
    "\n",
    "job = client.load_table_from_dataframe(orders, table_id, job_config=job_config)\n",
    "job.result()\n",
    "\n",
    "table = client.get_table(table_id)  # Make an API request.\n",
    "print(\n",
    "    \"Loaded {} rows and {} columns to {}\".format(\n",
    "        table.num_rows, len(table.schema), table_id\n",
    "    )\n",
    ")"
   ]
  },
  {
   "cell_type": "markdown",
   "metadata": {},
   "source": [
    "## Products"
   ]
  },
  {
   "cell_type": "code",
   "execution_count": 40,
   "metadata": {
    "ExecuteTime": {
     "end_time": "2020-12-13T15:40:25.256652Z",
     "start_time": "2020-12-13T15:40:25.219750Z"
    }
   },
   "outputs": [
    {
     "data": {
      "text/html": [
       "<div>\n",
       "<style scoped>\n",
       "    .dataframe tbody tr th:only-of-type {\n",
       "        vertical-align: middle;\n",
       "    }\n",
       "\n",
       "    .dataframe tbody tr th {\n",
       "        vertical-align: top;\n",
       "    }\n",
       "\n",
       "    .dataframe thead th {\n",
       "        text-align: right;\n",
       "    }\n",
       "</style>\n",
       "<table border=\"1\" class=\"dataframe\">\n",
       "  <thead>\n",
       "    <tr style=\"text-align: right;\">\n",
       "      <th></th>\n",
       "      <th>product_id</th>\n",
       "      <th>price</th>\n",
       "      <th>goods_group</th>\n",
       "      <th>manufacturer</th>\n",
       "    </tr>\n",
       "  </thead>\n",
       "  <tbody>\n",
       "    <tr>\n",
       "      <th>0</th>\n",
       "      <td>518018</td>\n",
       "      <td>899.0</td>\n",
       "      <td>Дитячі машинки</td>\n",
       "      <td>MZ</td>\n",
       "    </tr>\n",
       "    <tr>\n",
       "      <th>1</th>\n",
       "      <td>518020</td>\n",
       "      <td>899.0</td>\n",
       "      <td>Дитячі машинки</td>\n",
       "      <td>MZ</td>\n",
       "    </tr>\n",
       "    <tr>\n",
       "      <th>2</th>\n",
       "      <td>503982</td>\n",
       "      <td>1979.0</td>\n",
       "      <td>Дитячі машинки</td>\n",
       "      <td>MZ</td>\n",
       "    </tr>\n",
       "    <tr>\n",
       "      <th>3</th>\n",
       "      <td>518303</td>\n",
       "      <td>324.0</td>\n",
       "      <td>Дитячі машинки</td>\n",
       "      <td>MZ</td>\n",
       "    </tr>\n",
       "    <tr>\n",
       "      <th>4</th>\n",
       "      <td>521360</td>\n",
       "      <td>899.0</td>\n",
       "      <td>Дитячі машинки</td>\n",
       "      <td>MZ</td>\n",
       "    </tr>\n",
       "    <tr>\n",
       "      <th>...</th>\n",
       "      <td>...</td>\n",
       "      <td>...</td>\n",
       "      <td>...</td>\n",
       "      <td>...</td>\n",
       "    </tr>\n",
       "    <tr>\n",
       "      <th>3760</th>\n",
       "      <td>332712</td>\n",
       "      <td>500.0</td>\n",
       "      <td>Подарунки</td>\n",
       "      <td>Будинок іграшок</td>\n",
       "    </tr>\n",
       "    <tr>\n",
       "      <th>3761</th>\n",
       "      <td>359998</td>\n",
       "      <td>1000.0</td>\n",
       "      <td>Подарунки</td>\n",
       "      <td>Будинок іграшок</td>\n",
       "    </tr>\n",
       "    <tr>\n",
       "      <th>3762</th>\n",
       "      <td>357119</td>\n",
       "      <td>30.0</td>\n",
       "      <td>Подарунки</td>\n",
       "      <td>Будинок іграшок</td>\n",
       "    </tr>\n",
       "    <tr>\n",
       "      <th>3763</th>\n",
       "      <td>506458</td>\n",
       "      <td>40.0</td>\n",
       "      <td>Подарунки</td>\n",
       "      <td>Будинок іграшок</td>\n",
       "    </tr>\n",
       "    <tr>\n",
       "      <th>3764</th>\n",
       "      <td>506423</td>\n",
       "      <td>40.0</td>\n",
       "      <td>Подарунки</td>\n",
       "      <td>Будинок іграшок</td>\n",
       "    </tr>\n",
       "  </tbody>\n",
       "</table>\n",
       "<p>3765 rows × 4 columns</p>\n",
       "</div>"
      ],
      "text/plain": [
       "      product_id   price     goods_group     manufacturer\n",
       "0         518018   899.0  Дитячі машинки               MZ\n",
       "1         518020   899.0  Дитячі машинки               MZ\n",
       "2         503982  1979.0  Дитячі машинки               MZ\n",
       "3         518303   324.0  Дитячі машинки               MZ\n",
       "4         521360   899.0  Дитячі машинки               MZ\n",
       "...          ...     ...             ...              ...\n",
       "3760      332712   500.0       Подарунки  Будинок іграшок\n",
       "3761      359998  1000.0       Подарунки  Будинок іграшок\n",
       "3762      357119    30.0       Подарунки  Будинок іграшок\n",
       "3763      506458    40.0       Подарунки  Будинок іграшок\n",
       "3764      506423    40.0       Подарунки  Будинок іграшок\n",
       "\n",
       "[3765 rows x 4 columns]"
      ]
     },
     "execution_count": 40,
     "metadata": {},
     "output_type": "execute_result"
    }
   ],
   "source": [
    "products = pd.read_csv('data/products-1.csv')\n",
    "products"
   ]
  },
  {
   "cell_type": "code",
   "execution_count": 41,
   "metadata": {
    "ExecuteTime": {
     "end_time": "2020-12-13T15:40:26.661441Z",
     "start_time": "2020-12-13T15:40:26.646483Z"
    }
   },
   "outputs": [
    {
     "name": "stdout",
     "output_type": "stream",
     "text": [
      "<class 'pandas.core.frame.DataFrame'>\n",
      "RangeIndex: 3765 entries, 0 to 3764\n",
      "Data columns (total 4 columns):\n",
      " #   Column        Non-Null Count  Dtype  \n",
      "---  ------        --------------  -----  \n",
      " 0   product_id    3765 non-null   int64  \n",
      " 1   price         3765 non-null   float64\n",
      " 2   goods_group   3765 non-null   object \n",
      " 3   manufacturer  3765 non-null   object \n",
      "dtypes: float64(1), int64(1), object(2)\n",
      "memory usage: 117.8+ KB\n"
     ]
    }
   ],
   "source": [
    "products.info()"
   ]
  },
  {
   "cell_type": "code",
   "execution_count": 46,
   "metadata": {
    "ExecuteTime": {
     "end_time": "2020-12-13T15:54:43.472286Z",
     "start_time": "2020-12-13T15:54:43.458284Z"
    }
   },
   "outputs": [],
   "source": [
    "def get_table_id(table_name, dataset_id):\n",
    "    return '.'.join([client.project, dataset_id, table_name])"
   ]
  },
  {
   "cell_type": "code",
   "execution_count": 42,
   "metadata": {
    "ExecuteTime": {
     "end_time": "2020-12-13T15:45:25.238453Z",
     "start_time": "2020-12-13T15:45:25.220463Z"
    }
   },
   "outputs": [],
   "source": [
    "def create_table(table_name, dataset_id):\n",
    "    table_id = get_table_id(table_name, dataset_id)\n",
    "    table = bigquery.Table(table_id)\n",
    "    table = client.create_table(table)"
   ]
  },
  {
   "cell_type": "code",
   "execution_count": 43,
   "metadata": {
    "ExecuteTime": {
     "end_time": "2020-12-13T15:46:05.015928Z",
     "start_time": "2020-12-13T15:46:04.492678Z"
    }
   },
   "outputs": [],
   "source": [
    "create_table('products', dataset_id, project_id)"
   ]
  },
  {
   "cell_type": "code",
   "execution_count": 50,
   "metadata": {
    "ExecuteTime": {
     "end_time": "2020-12-13T15:57:41.566438Z",
     "start_time": "2020-12-13T15:57:41.547488Z"
    }
   },
   "outputs": [],
   "source": [
    "def upload_to_dataset(string_cols, df, table_name, dataset_id):\n",
    "    table_id = get_table_id(table_name, dataset_id)\n",
    "    schema = [bigquery.SchemaField(s, bigquery.enums.SqlTypeNames.STRING) for s in string_cols]\n",
    "    job_config = bigquery.LoadJobConfig(schema=schema, write_disposition=\"WRITE_TRUNCATE\")\n",
    "    job = client.load_table_from_dataframe(df, table_id, job_config=job_config)\n",
    "    job.result()\n",
    "    table = client.get_table(table_id)\n",
    "    print(f\"loaded {table.num_rows} rows and {len(table.schema)} columns to {table_id}\")\n",
    "    "
   ]
  },
  {
   "cell_type": "code",
   "execution_count": 51,
   "metadata": {
    "ExecuteTime": {
     "end_time": "2020-12-13T15:57:52.575586Z",
     "start_time": "2020-12-13T15:57:43.297003Z"
    }
   },
   "outputs": [
    {
     "name": "stdout",
     "output_type": "stream",
     "text": [
      "loaded 3765 and 4 to thinking-seer-298510.client_data.products\n"
     ]
    }
   ],
   "source": [
    "cols = ('goods_group', 'manufacturer')\n",
    "\n",
    "upload_to_dataset(cols, products, 'products', dataset_id)"
   ]
  },
  {
   "cell_type": "code",
   "execution_count": null,
   "metadata": {},
   "outputs": [],
   "source": []
  }
 ],
 "metadata": {
  "kernelspec": {
   "display_name": "Python 3",
   "language": "python",
   "name": "python3"
  },
  "language_info": {
   "codemirror_mode": {
    "name": "ipython",
    "version": 3
   },
   "file_extension": ".py",
   "mimetype": "text/x-python",
   "name": "python",
   "nbconvert_exporter": "python",
   "pygments_lexer": "ipython3",
   "version": "3.7.0"
  },
  "toc": {
   "base_numbering": 1,
   "nav_menu": {},
   "number_sections": true,
   "sideBar": true,
   "skip_h1_title": false,
   "title_cell": "Table of Contents",
   "title_sidebar": "Contents",
   "toc_cell": false,
   "toc_position": {},
   "toc_section_display": true,
   "toc_window_display": false
  },
  "varInspector": {
   "cols": {
    "lenName": 16,
    "lenType": 16,
    "lenVar": 40
   },
   "kernels_config": {
    "python": {
     "delete_cmd_postfix": "",
     "delete_cmd_prefix": "del ",
     "library": "var_list.py",
     "varRefreshCmd": "print(var_dic_list())"
    },
    "r": {
     "delete_cmd_postfix": ") ",
     "delete_cmd_prefix": "rm(",
     "library": "var_list.r",
     "varRefreshCmd": "cat(var_dic_list()) "
    }
   },
   "types_to_exclude": [
    "module",
    "function",
    "builtin_function_or_method",
    "instance",
    "_Feature"
   ],
   "window_display": false
  }
 },
 "nbformat": 4,
 "nbformat_minor": 4
}
